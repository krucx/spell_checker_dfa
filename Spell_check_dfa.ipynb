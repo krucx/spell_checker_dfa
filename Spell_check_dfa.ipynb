{
 "cells": [
  {
   "cell_type": "code",
   "execution_count": 95,
   "metadata": {},
   "outputs": [
    {
     "name": "stderr",
     "output_type": "stream",
     "text": [
      "[nltk_data] Downloading package wordnet to\n",
      "[nltk_data]     C:\\Users\\kritarth\\AppData\\Roaming\\nltk_data...\n",
      "[nltk_data]   Package wordnet is already up-to-date!\n"
     ]
    },
    {
     "data": {
      "text/plain": [
       "True"
      ]
     },
     "execution_count": 95,
     "metadata": {},
     "output_type": "execute_result"
    }
   ],
   "source": [
    "import nltk\n",
    "from nltk.stem.wordnet import WordNetLemmatizer\n",
    "nltk.download('wordnet')"
   ]
  },
  {
   "cell_type": "code",
   "execution_count": 96,
   "metadata": {},
   "outputs": [],
   "source": [
    "def create_wordlist(filename):  \n",
    "    words = set()\n",
    "    lem = WordNetLemmatizer()\n",
    "    with open(filename) as f:\n",
    "        for word in f:\n",
    "            try:\n",
    "                word = word.strip()\n",
    "                word = lem.lemmatize(word,pos='v')\n",
    "                if word.isalpha():\n",
    "                    words.add(word.lower())\n",
    "                else:\n",
    "                    continue\n",
    "            except:\n",
    "                continue\n",
    "    return words"
   ]
  },
  {
   "cell_type": "code",
   "execution_count": 97,
   "metadata": {},
   "outputs": [],
   "source": [
    "def create_dfa(words):  \n",
    "    tran = [[-1]*26]\n",
    "    final = [0]\n",
    "\n",
    "    for word in words:\n",
    "        curr_state = 0\n",
    "        for char in word:\n",
    "            if tran[curr_state][ord(char)-97]==-1:\n",
    "                prev_state = curr_state\n",
    "                curr_state = len(tran)\n",
    "                tran.append([-1]*26)\n",
    "                final.append(0)\n",
    "                tran[prev_state][ord(char)-97] = curr_state\n",
    "            else:\n",
    "                curr_state = tran[curr_state][ord(char)-97]\n",
    "        final[curr_state] = 1\n",
    "    return tran,final"
   ]
  },
  {
   "cell_type": "code",
   "execution_count": 98,
   "metadata": {},
   "outputs": [],
   "source": [
    "def simulate(tran,final,word):\n",
    "    curr_state = 0\n",
    "    for char in word:\n",
    "        if tran[curr_state][ord(char)-97]!=-1:\n",
    "            curr_state = tran[curr_state][ord(char)-97]\n",
    "        else:\n",
    "            return False\n",
    "    if final[curr_state]==1:\n",
    "        return True\n",
    "    return False"
   ]
  },
  {
   "cell_type": "code",
   "execution_count": 99,
   "metadata": {},
   "outputs": [],
   "source": [
    "def edit_distance(dp,i,j,word1,word2):\n",
    "    if i>=len(word1):\n",
    "        return len(word2)-j\n",
    "    if j>=len(word2):\n",
    "        return len(word1)-i\n",
    "    if dp[i][j]!=-1:\n",
    "        return dp[i][j]\n",
    "    if word1[i]==word2[j]:\n",
    "        dp[i][j] = edit_distance(dp,i+1,j+1,word1,word2)\n",
    "        return dp[i][j]\n",
    "    else:\n",
    "        dp[i][j] = min(edit_distance(dp,i+1,j+1,word1,word2)+1,edit_distance(dp,i+1,j,word1,word2)+1,edit_distance(dp,i,j+1,word1,word2)+1)\n",
    "        return dp[i][j]"
   ]
  },
  {
   "cell_type": "code",
   "execution_count": 100,
   "metadata": {},
   "outputs": [],
   "source": [
    "def gen_suggestions(words,word):\n",
    "    suggestions1 = []\n",
    "    suggestions2 = []\n",
    "    for suggestion in words:\n",
    "        dp = []\n",
    "        for i in range(len(word)):\n",
    "            row = []\n",
    "            for j in range(len(suggestion)):\n",
    "                row.append(-1)\n",
    "            dp.append(row)\n",
    "        levenshtein_dist = edit_distance(dp,0,0,word,suggestion)\n",
    "        if levenshtein_dist<=1:\n",
    "            suggestions1.append(suggestion)\n",
    "        elif levenshtein_dist<=2: \n",
    "            suggestions2.append(suggestion)\n",
    "    if len(word)>=6:\n",
    "        return 'Incorect spelling!! \\nSuggestions (distance = 1) : {} \\nSuggestions (distance = 2) : {}'.format(suggestions1,suggestions2)\n",
    "    else:\n",
    "        return 'Incorect spelling!! \\nSuggestions (distance = 1) : {}'.format(suggestions1)"
   ]
  },
  {
   "cell_type": "code",
   "execution_count": 101,
   "metadata": {},
   "outputs": [],
   "source": [
    "def spellcheck(tran,final,words,word):\n",
    "    lem = WordNetLemmatizer()\n",
    "    word = lem.lemmatize(word,pos='v')\n",
    "    if simulate(tran,final,word):\n",
    "        return 'Spelling is correct'\n",
    "    else:\n",
    "        return gen_suggestions(words,word)"
   ]
  },
  {
   "cell_type": "code",
   "execution_count": 102,
   "metadata": {},
   "outputs": [],
   "source": [
    "words = create_wordlist('3000_most_frequent.txt')\n",
    "tran,final = create_dfa(words)"
   ]
  },
  {
   "cell_type": "code",
   "execution_count": 103,
   "metadata": {},
   "outputs": [
    {
     "name": "stdout",
     "output_type": "stream",
     "text": [
      "Incorect spelling!! \n",
      "Suggestions (distance = 1) : ['lift', 'list']\n"
     ]
    }
   ],
   "source": [
    "print(spellcheck(tran,final,words,'lidt'))"
   ]
  },
  {
   "cell_type": "code",
   "execution_count": 108,
   "metadata": {},
   "outputs": [
    {
     "name": "stdout",
     "output_type": "stream",
     "text": [
      "Spelling is correct\n"
     ]
    }
   ],
   "source": [
    "print(spellcheck(tran,final,words,'happy'))"
   ]
  },
  {
   "cell_type": "code",
   "execution_count": 113,
   "metadata": {},
   "outputs": [
    {
     "name": "stdout",
     "output_type": "stream",
     "text": [
      "Incorect spelling!! \n",
      "Suggestions (distance = 1) : ['correct'] \n",
      "Suggestions (distance = 2) : ['core', 'collect', 'direct', 'forest', 'connect']\n"
     ]
    }
   ],
   "source": [
    "print(spellcheck(tran,final,words,'corect'))"
   ]
  },
  {
   "cell_type": "code",
   "execution_count": null,
   "metadata": {},
   "outputs": [],
   "source": []
  }
 ],
 "metadata": {
  "kernelspec": {
   "display_name": "Python 3",
   "language": "python",
   "name": "python3"
  },
  "language_info": {
   "codemirror_mode": {
    "name": "ipython",
    "version": 3
   },
   "file_extension": ".py",
   "mimetype": "text/x-python",
   "name": "python",
   "nbconvert_exporter": "python",
   "pygments_lexer": "ipython3",
   "version": "3.7.6"
  }
 },
 "nbformat": 4,
 "nbformat_minor": 4
}
